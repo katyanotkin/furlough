{
 "cells": [
  {
   "cell_type": "code",
   "execution_count": 2,
   "metadata": {},
   "outputs": [],
   "source": [
    "import sys\n",
    "import argparse\n",
    "import validators \n",
    "import requests\n",
    "import requests.exceptions\n",
    "from bs4 import BeautifulSoup \t\t# wow, not working with Python3.6, using Python3.5 \n",
    "import re"
   ]
  },
  {
   "cell_type": "code",
   "execution_count": 3,
   "metadata": {},
   "outputs": [],
   "source": [
    "\n",
    "def collectEmails(page):\n",
    "\t#print(\"\\n{}\\n=======\".format(sys._getframe().f_code.co_name))\n",
    "\tpage=str(BeautifulSoup(response.text, 'html.parser'))\n",
    "\temailSet=set(re.findall(r'[\\w\\.-]+@[\\w\\.-]+', page))\n",
    "\treturn {'success':True , 'result':emailSet}"
   ]
  },
  {
   "cell_type": "code",
   "execution_count": 4,
   "metadata": {},
   "outputs": [
    {
     "name": "stderr",
     "output_type": "stream",
     "text": [
      "usage: ipykernel_launcher.py [-h] rootDomain\n",
      "ipykernel_launcher.py: error: unrecognized arguments: -f\n"
     ]
    },
    {
     "ename": "SystemExit",
     "evalue": "2",
     "output_type": "error",
     "traceback": [
      "An exception has occurred, use %tb to see the full traceback.\n",
      "\u001b[0;31mSystemExit\u001b[0m\u001b[0;31m:\u001b[0m 2\n"
     ]
    },
    {
     "name": "stderr",
     "output_type": "stream",
     "text": [
      "/home/enot/furlough/env/lib/python3.5/site-packages/IPython/core/interactiveshell.py:2918: UserWarning: To exit: use 'exit', 'quit', or Ctrl-D.\n",
      "  warn(\"To exit: use 'exit', 'quit', or Ctrl-D.\", stacklevel=1)\n"
     ]
    }
   ],
   "source": [
    "def enot(arguments)\n",
    "\tprsr = argparse.ArgumentParser()\n",
    "\tprsr.add_argument(\"rootDomain\")\n",
    "\targs = prsr.parse_args()\n",
    "\tif args.rootDomain:\n",
    "\t\t# validate url\n",
    "\t\trootUrl=args.rootDomain\n",
    "\t\t\"\"\" http / https / ... protocol specification may require more work, taking simplistic approach for the sake of time \"\"\" \n",
    "\t\tif not rootUrl.startswith(\"http\"):\n",
    "\t\t\trootUrl = \"http://\"+rootUrl\n",
    "\t\tif not validators.url(rootUrl):\n",
    "\t\t\tprint(\"Invalid input domain {}, exiting...\".format(args.rootDomain))\n",
    "\t\t\texit(1)\n",
    "\t\telse:\n",
    "\t\t\tprint(\"Looking for email addresses in {} and beyond\".format(rootUrl))\n",
    "\t\t\tprocessed_urls=set()\n",
    "\t\t\temails=set()\n",
    "\t\t\t# obtain urls beyond root \n",
    "\t\t\t#resp=collectUrls(rootUrl)\t# not ready and better have one run throgh page for urls and emails\n",
    "\t\t\turls=set([rootUrl])\n",
    "\t\t\twhile len(urls):\n",
    "\t\t\t\turl=urls.pop()\n",
    "\t\t\t\ttry:\n",
    "\t\t\t\t\tresponse=requests.get(url)\n",
    "\t\t\t\texcept:\n",
    "\t\t\t\t\tpass\n",
    "\t\t\t\tpage=BeautifulSoup(response.text, 'html.parser')\n",
    "\t\t\t\t\n",
    "\t\t\t\tif not url in processed_urls:\n",
    "\t\t\t\t\tprocessed_urls.add(url)\n",
    "\t\t\t\t\tprint(\"Collecting emails from {}\".format(url))\n",
    "\t\t\t\t\tr=collectEmails(page)\n",
    "\t\t\t\t\t#print(\"{}: {}\".format(u,r['result']))\n",
    "\t\t\t\t\tif r['success']:\n",
    "\t\t\t\t\t\temails=emails.union(r['result'])\n",
    "\t\t\t\t\t# collect href references\n",
    "\t\t\t\t\tfor atag in page.find_all(\"a\"):\n",
    "\t\t\t\t\t\tif \"href\" in atag.attrs and atag.attr[\"href\"]:\n",
    "\t\t\t\t\t\t\tif atag.attr[\"href\"] not in processed_urls:\n",
    "\t\t\t\t\t\t\t\turls.union(atag.attr[\"href\"])\n",
    "\t\t\t\t\t#links = { hr.attr[\"href\"] for hr in page.find_all(\"a\") if \"href\" in hr.attrs and hr.attr[\"href\"] not in processed_urls}\n",
    "\t\t\t\t\t#print(links)\n",
    "\t\t\t\t\t#urls.union(links)\n",
    "\t\t\t\t\tprint(urls)\n",
    "\t\t\t\t\t\n",
    "\n",
    "\t\t\tif len(emails)>0:\n",
    "\t\t\t\tprint(\"Found emails:\")\n",
    "\t\t\t\t{ print (em) for em in emails if validators.email(em)}\n",
    "\t\t\telse:\n",
    "\t\t\t\tprint(\"Disappointment: somehow no emails were collected\")\n"
   ]
  },
  {
   "cell_type": "code",
   "execution_count": null,
   "metadata": {},
   "outputs": [],
   "source": []
  }
 ],
 "metadata": {
  "kernelspec": {
   "display_name": "Python 3",
   "language": "python",
   "name": "python3"
  },
  "language_info": {
   "codemirror_mode": {
    "name": "ipython",
    "version": 3
   },
   "file_extension": ".py",
   "mimetype": "text/x-python",
   "name": "python",
   "nbconvert_exporter": "python",
   "pygments_lexer": "ipython3",
   "version": "3.5.2"
  }
 },
 "nbformat": 4,
 "nbformat_minor": 2
}
